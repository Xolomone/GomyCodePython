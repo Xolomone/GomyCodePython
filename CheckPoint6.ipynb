{
 "cells": [
  {
   "cell_type": "markdown",
   "id": "d2b6b8d0",
   "metadata": {},
   "source": [
    "Question 1\n",
    "\n",
    "Write a Python program to convert an array to an ordinary list with the same items.\n",
    "\n",
    "We can use the np.tolist() function."
   ]
  },
  {
   "cell_type": "code",
   "execution_count": 12,
   "id": "b9c52d3a",
   "metadata": {},
   "outputs": [
    {
     "name": "stdout",
     "output_type": "stream",
     "text": [
      "List: [17, 9, 635]\n"
     ]
    }
   ],
   "source": [
    "import numpy as np\n",
    "array = np.array([17, 9, 635])\n",
    "lits = array.tolist()\n",
    "print(f'List: {lits}')"
   ]
  },
  {
   "cell_type": "code",
   "execution_count": 13,
   "id": "d8a29b79",
   "metadata": {},
   "outputs": [
    {
     "name": "stdout",
     "output_type": "stream",
     "text": [
      "List: [[22, 4, 15, 7], [65, 12, 7, 23]]\n"
     ]
    }
   ],
   "source": [
    "array = np.array([[22,4,15,7], [65,12,7, 23]])\n",
    "litt = array.tolist()\n",
    "print(f'List: {litt}')"
   ]
  },
  {
   "cell_type": "code",
   "execution_count": null,
   "id": "77e55734",
   "metadata": {},
   "outputs": [],
   "source": []
  },
  {
   "cell_type": "markdown",
   "id": "6315f8e1",
   "metadata": {},
   "source": [
    "2. Write a NumPy program to compute the sum of the diagonal elements of a given array.\n",
    "\n",
    "   Hint: There are two possible methods to solve this problem: \n",
    "\n",
    "   Manually (without direct function). \n",
    "   Using the trace function"
   ]
  },
  {
   "cell_type": "code",
   "execution_count": 27,
   "id": "7823dc3a",
   "metadata": {},
   "outputs": [
    {
     "name": "stdout",
     "output_type": "stream",
     "text": [
      "[[0 1 2]\n",
      " [3 4 5]\n",
      " [6 7 8]]\n",
      "Sum of diagonal =  12\n"
     ]
    }
   ],
   "source": [
    "import numpy as np\n",
    "              \n",
    "# make array with numpy\n",
    "new_array= np.arange(9).reshape(3,3)\n",
    "print(new_array)              \n",
    "# Manually summing up the diagonal elements\n",
    "sum_of_diag = new_array[0,0] + new_array[1,1] + new_array[2,2]\n",
    "print('Sum of diagonal = ',sum_of_diag)"
   ]
  },
  {
   "cell_type": "code",
   "execution_count": 31,
   "id": "b38d1f6c",
   "metadata": {},
   "outputs": [
    {
     "name": "stdout",
     "output_type": "stream",
     "text": [
      "[[0 1 2]\n",
      " [3 4 5]\n",
      " [6 7 8]]\n",
      "Sum of diagonal =  12\n"
     ]
    }
   ],
   "source": [
    "import numpy as np\n",
    "              \n",
    "# make array with numpy\n",
    "new_array= np.arange(9).reshape(3,3)\n",
    "print(new_array)              \n",
    "# applying new_array.trace() method\n",
    "sum_of_diag = new_array.trace()\n",
    "print('Sum of diagonal = ',sum_of_diag)"
   ]
  },
  {
   "cell_type": "markdown",
   "id": "ce92313d",
   "metadata": {},
   "source": [
    "Question 3\n",
    "\n",
    "Given an array of your choice, get all the values higher than X:\n",
    "\n",
    "If a = [[1,2],[3,5]] and x = 2 :  then 3 and 5 are higher than 2. "
   ]
  },
  {
   "cell_type": "code",
   "execution_count": 43,
   "id": "d38f7682",
   "metadata": {},
   "outputs": [
    {
     "name": "stdout",
     "output_type": "stream",
     "text": [
      "[3, 5]\n"
     ]
    }
   ],
   "source": [
    "import numpy as np\n",
    "\n",
    "choice = [[1,2],[3,5]] \n",
    "new_choice = []\n",
    "n_choice = np.array(choice)\n",
    "for x in n_choice:\n",
    "    for y in x:\n",
    "        if y > 2:\n",
    "            new_choice.append(y)\n",
    "print(new_choice)"
   ]
  },
  {
   "cell_type": "markdown",
   "id": "b1fea6c9",
   "metadata": {},
   "source": [
    "Question 4\n",
    "\n",
    "Given two arrays, A & B have the same shape. \n",
    "\n",
    "The task is to apply addition by hand: C is the new array. "
   ]
  },
  {
   "cell_type": "code",
   "execution_count": 44,
   "id": "17174eee",
   "metadata": {},
   "outputs": [
    {
     "name": "stdout",
     "output_type": "stream",
     "text": [
      "[[ 8  5]\n",
      " [ 9 15]]\n"
     ]
    }
   ],
   "source": [
    "A = np.array([[2,3],[4,5]])\n",
    "B = np.array([[6,2],[5,10]])\n",
    "C = A + B\n",
    "print(C)"
   ]
  },
  {
   "cell_type": "markdown",
   "id": "9e695278",
   "metadata": {},
   "source": [
    "Question 5\n",
    "\n",
    "Write a NumPy program to subtract the mean of each row of a given matrix.\n",
    "\n",
    "Hint: use the mean function"
   ]
  },
  {
   "cell_type": "code",
   "execution_count": 3,
   "id": "514a11d9",
   "metadata": {},
   "outputs": [
    {
     "name": "stdout",
     "output_type": "stream",
     "text": [
      "Original matrix:\n",
      "\n",
      "[[0.65759617 0.11452958 0.6551558  0.64197512 0.10925494]\n",
      " [0.27258385 0.50261743 0.97087608 0.22585291 0.21930197]\n",
      " [0.27676971 0.42846271 0.11874966 0.93186492 0.10320122]]\n",
      "\n",
      "Subtract the mean of each row of the said matrix:\n",
      "\n",
      "[[ 0.22189385 -0.32117274  0.21945348  0.2062728  -0.32644739]\n",
      " [-0.1656626   0.06437098  0.53262963 -0.21239353 -0.21894448]\n",
      " [-0.09503993  0.05665306 -0.25305998  0.56005528 -0.26860842]]\n"
     ]
    }
   ],
   "source": [
    "import numpy as np\n",
    "print(\"Original matrix:\\n\")\n",
    "matrix1 = np.random.rand(3, 5)\n",
    "print(matrix1)\n",
    "print(\"\\nSubtract the mean of each row of the said matrix:\\n\")\n",
    "matrix_less_mean = matrix1 - matrix1.mean(axis=1, keepdims=True)\n",
    "print(matrix_less_mean)"
   ]
  },
  {
   "cell_type": "code",
   "execution_count": 56,
   "id": "7eb1f63b",
   "metadata": {
    "collapsed": true
   },
   "outputs": [
    {
     "name": "stdout",
     "output_type": "stream",
     "text": [
      "Original matrix:\n",
      "\n",
      "[[0.83185914 0.78186422]\n",
      " [0.98025577 0.73362703]]\n",
      "\n",
      "Y matrix:\n",
      "\n",
      "[[0.80686168]\n",
      " [0.8569414 ]]\n",
      "[[ 0.02499746 -0.02499746]\n",
      " [ 0.12331437 -0.12331437]]\n"
     ]
    }
   ],
   "source": [
    "\n"
   ]
  },
  {
   "cell_type": "code",
   "execution_count": null,
   "id": "38f950df",
   "metadata": {},
   "outputs": [],
   "source": []
  },
  {
   "cell_type": "code",
   "execution_count": null,
   "id": "91443d25",
   "metadata": {},
   "outputs": [],
   "source": []
  },
  {
   "cell_type": "code",
   "execution_count": null,
   "id": "6e3ae676",
   "metadata": {},
   "outputs": [],
   "source": []
  },
  {
   "cell_type": "code",
   "execution_count": null,
   "id": "5de5bdea",
   "metadata": {},
   "outputs": [],
   "source": []
  }
 ],
 "metadata": {
  "kernelspec": {
   "display_name": "Python 3 (ipykernel)",
   "language": "python",
   "name": "python3"
  },
  "language_info": {
   "codemirror_mode": {
    "name": "ipython",
    "version": 3
   },
   "file_extension": ".py",
   "mimetype": "text/x-python",
   "name": "python",
   "nbconvert_exporter": "python",
   "pygments_lexer": "ipython3",
   "version": "3.9.12"
  }
 },
 "nbformat": 4,
 "nbformat_minor": 5
}
