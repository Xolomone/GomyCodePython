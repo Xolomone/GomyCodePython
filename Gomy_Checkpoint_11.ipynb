{
 "cells": [
  {
   "cell_type": "markdown",
   "id": "7e0e7c46",
   "metadata": {},
   "source": [
    "Description: \n",
    "\n",
    "Build a simple temperature converter program using Python and Tkinter GUI framework. The program should convert temperature from Fahrenheit to Celsius.\n",
    "\n",
    "Statement: \n",
    "\n",
    "You are tasked with building a temperature converter program using Python and Tkinter GUI framework that converts temperature from Fahrenheit to Celsius."
   ]
  },
  {
   "cell_type": "code",
   "execution_count": null,
   "id": "c78148de",
   "metadata": {},
   "outputs": [],
   "source": [
    "def exit():\n",
    "    window.destroy()\n",
    " \n",
    "def fahrenheit_to_celsius():\n",
    "    c = int(e1.get())\n",
    "    f = ((c*9)/(5))+32\n",
    "    t1.config(state='normal')\n",
    "    t1.delete('1.0', tk.END)\n",
    "    t1.insert(tk.END,f)\n",
    "    t1.config(state='disabled')\n",
    " \n",
    "import tkinter as tk\n",
    "window = tk.Tk()\n",
    "window.geometry(\"300x250\")\n",
    "window.config(bg=\"#A569BD\")\n",
    "window.resizable(width=False,height=False)\n",
    "window.title('Temperature Converter!')\n",
    " \n",
    "l1 = tk.Label(window,text=\"Temperature Converter\",font=(\"Arial\", 15),fg=\"white\",bg=\"black\")\n",
    "l2= tk.Label(window,text=\"Enter temperature in Celsius: \",font=(\"Arial\", 10,\"bold\"),fg=\"white\",bg=\"#A569BD\")\n",
    "l3= tk.Label(window,text=\"Temperature in Fahrenheit is: \",font=(\"Arial\", 10,\"bold\"),fg=\"white\",bg=\"#A569BD\")\n",
    " \n",
    "empty_l1 = tk.Label(window,bg=\"#A569BD\")\n",
    "empty_l2 = tk.Label(window,bg=\"#A569BD\")\n",
    " \n",
    "e1= tk.Entry(window,font=('Arial',10))\n",
    " \n",
    "btn1 = tk.Button(window,text=\"Convert to Fahrenheit!\",font=(\"Arial\", 10),command=fahrenheit_to_celsius)\n",
    "btn2 = tk.Button(window,text=\"Exit application\",font=(\"Arial\", 10),command=exit)\n",
    " \n",
    "t1=tk.Text(window,state=\"disabled\",width=15,height=0)\n",
    " \n",
    "l1.pack()\n",
    "l2.pack()\n",
    "e1.pack()\n",
    "empty_l1.pack()\n",
    "btn1.pack()\n",
    "l3.pack()\n",
    "t1.pack()\n",
    "empty_l2.pack()\n",
    "btn2.pack()\n",
    " \n",
    "window.mainloop()"
   ]
  },
  {
   "cell_type": "code",
   "execution_count": null,
   "id": "dc1b85c0",
   "metadata": {},
   "outputs": [],
   "source": []
  }
 ],
 "metadata": {
  "kernelspec": {
   "display_name": "Python 3 (ipykernel)",
   "language": "python",
   "name": "python3"
  },
  "language_info": {
   "codemirror_mode": {
    "name": "ipython",
    "version": 3
   },
   "file_extension": ".py",
   "mimetype": "text/x-python",
   "name": "python",
   "nbconvert_exporter": "python",
   "pygments_lexer": "ipython3",
   "version": "3.9.12"
  }
 },
 "nbformat": 4,
 "nbformat_minor": 5
}
