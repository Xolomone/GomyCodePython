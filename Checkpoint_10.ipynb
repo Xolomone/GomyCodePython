{
 "cells": [
  {
   "cell_type": "markdown",
   "id": "1cd3d63e",
   "metadata": {},
   "source": [
    "1. Write a Python program for a binary search.\n",
    "Test Data: \n",
    "\n",
    "binary_search([1,2,3,5,8], 6) -> False\n",
    "binary_search([1,2,3,5,8], 5) -> True"
   ]
  },
  {
   "cell_type": "code",
   "execution_count": 17,
   "id": "08be1e08",
   "metadata": {},
   "outputs": [
    {
     "name": "stdout",
     "output_type": "stream",
     "text": [
      "False\n",
      "None\n",
      "True\n",
      "3\n"
     ]
    }
   ],
   "source": [
    "def binary_search(sequence, item):\n",
    "    begin_index = 0\n",
    "    end_index = len(sequence) - 1 \n",
    "    \n",
    "    while begin_index <= end_index:\n",
    "        midpoint = begin_index + (end_index - begin_index) // 2\n",
    "        midpoint_value = sequence[midpoint]\n",
    "        if midpoint_value == item:\n",
    "            if item in sequence:\n",
    "                print('True')\n",
    "            \n",
    "            return midpoint\n",
    "        \n",
    "        elif item < midpoint_value:\n",
    "            end_index = midpoint - 1\n",
    "            \n",
    "        else: \n",
    "            begin_index = midpoint + 1\n",
    "    print('False')\n",
    "\n",
    "sequence_a = [1,2,3,5,8]\n",
    "item_a = 6\n",
    "\n",
    "sequence_b = [1,2,3,5,8]\n",
    "item_b = 5\n",
    "zed = binary_search(sequence_a, item_a)\n",
    "print(zed)\n",
    "zed_b = binary_search(sequence_b, item_b)\n",
    "print(zed_b)"
   ]
  },
  {
   "cell_type": "markdown",
   "id": "f6e70d82",
   "metadata": {},
   "source": [
    " 2. Write a Python program to calculate the value of 'a' to the power 'b'.\n",
    "\n",
    "Test Data: \n",
    "\n",
    "(power(3,4) -> 81"
   ]
  },
  {
   "cell_type": "code",
   "execution_count": 35,
   "id": "af32baff",
   "metadata": {},
   "outputs": [
    {
     "name": "stdout",
     "output_type": "stream",
     "text": [
      "81\n"
     ]
    }
   ],
   "source": [
    "def power(a, b):\n",
    "    return a**b\n",
    "print(power(3,4))"
   ]
  },
  {
   "cell_type": "markdown",
   "id": "8b33ac9e",
   "metadata": {},
   "source": [
    "3. Write a Python program to sort a list of elements using the bubble sort algorithm.\n",
    "\n",
    "Sample Data: [29,13,22,37,52,49,46,71,56]\n",
    "\n",
    "Expected result: [13, 22, 29, 37, 42, 46, 49, 56, 71]"
   ]
  },
  {
   "cell_type": "code",
   "execution_count": 21,
   "id": "e017ce40",
   "metadata": {},
   "outputs": [
    {
     "name": "stdout",
     "output_type": "stream",
     "text": [
      "Sample Data:  [29, 13, 22, 37, 52, 49, 46, 71, 56]\n",
      "Expected result:  [13, 22, 29, 37, 46, 49, 52, 56, 71]\n"
     ]
    }
   ],
   "source": [
    "# Creating a bubble sort function  \n",
    "def bubble_sort(list1):  \n",
    "    # Outer loop for traverse the entire list  \n",
    "    for i in range(0,len(list1)-1):  \n",
    "        for j in range(len(list1)-1):  \n",
    "            if(list1[j]>list1[j+1]):  \n",
    "                temp = list1[j]  \n",
    "                list1[j] = list1[j+1]  \n",
    "                list1[j+1] = temp  \n",
    "    return list1  \n",
    "  \n",
    "list1 = [29,13,22,37,52,49,46,71,56]  \n",
    "print(\"Sample Data: \", list1)  \n",
    "# Calling the bubble sort function  \n",
    "print(\"Expected result: \", bubble_sort(list1)) "
   ]
  },
  {
   "cell_type": "markdown",
   "id": "a79ece3b",
   "metadata": {},
   "source": [
    "4. Write a Python program to sort a list of elements using the merge sort algorithm.\n",
    "\n",
    "Sample Data: [29,13,22,37,52,49,46,71,56]\n",
    "\n",
    "Expected result: [13, 22, 29, 37, 42, 46, 49, 56, 71]"
   ]
  },
  {
   "cell_type": "code",
   "execution_count": 31,
   "id": "3630e524",
   "metadata": {},
   "outputs": [
    {
     "name": "stdout",
     "output_type": "stream",
     "text": [
      "Expected result:  [29, 13, 22, 37, 52, 49, 46, 71, 56]\n"
     ]
    }
   ],
   "source": [
    "def mergeSort(myList):\n",
    "    if len(myList) > 1:\n",
    "        mid = len(myList) // 2\n",
    "        left = myList[:mid]\n",
    "        right = myList[mid:]\n",
    "\n",
    "        # Recursive call on each half\n",
    "        mergeSort(left)\n",
    "        mergeSort(right)\n",
    "\n",
    "        # Two iterators for traversing the two halves\n",
    "        i = 0\n",
    "        j = 0\n",
    "        \n",
    "        # Iterator for the main list\n",
    "        k = 0\n",
    "        \n",
    "        while i < len(left) and j < len(right):\n",
    "            if left[i] < right[j]:\n",
    "              # The value from the left half has been used\n",
    "              myList[k] = left[i]\n",
    "              # Move the iterator forward\n",
    "              i += 1\n",
    "            else:\n",
    "                myList[k] = right[j]\n",
    "                j += 1\n",
    "            # Move to the next slot\n",
    "            k += 1\n",
    "\n",
    "        # For all the remaining values\n",
    "        while i < len(left):\n",
    "            myList[k] = left[i]\n",
    "            i += 1\n",
    "            k += 1\n",
    "\n",
    "        while j < len(right):\n",
    "            myList[k]=right[j]\n",
    "            j += 1\n",
    "            k += 1\n",
    "\n",
    "#myList = [54,26,93,17,77,31,44,55,20]\n",
    "#mergeSort(myList)\n",
    "#print(myList)\n",
    "\n",
    "myList = [29,13,22,37,52,49,46,71,56] \n",
    "#mergeSort(myList)\n",
    "print(\"Expected result: \", myList)  "
   ]
  },
  {
   "cell_type": "markdown",
   "id": "e0150741",
   "metadata": {},
   "source": [
    "5. Write a Python program to sort a list of elements using the quick sort algorithm.\n",
    "\n",
    "Sample Data: [29,13,22,37,52,49,46,71,56]\n",
    "\n",
    "Expected result: [13, 22, 29, 37, 42, 46, 49, 56, 71]"
   ]
  },
  {
   "cell_type": "code",
   "execution_count": 34,
   "id": "3ac78687",
   "metadata": {},
   "outputs": [
    {
     "name": "stdout",
     "output_type": "stream",
     "text": [
      "Expected result [13, 22, 29, 37, 46, 49, 52, 56, 71]\n"
     ]
    }
   ],
   "source": [
    "def partition(array, start, end):\n",
    "    pivot = array[start]\n",
    "    low = start + 1\n",
    "    high = end\n",
    "    while True:\n",
    "        # If the current value we're looking at is larger than the pivot\n",
    "        # it's in the right place (right side of pivot) and we can move left,\n",
    "        # to the next element.\n",
    "        # We also need to make sure we haven't surpassed the low pointer, since that\n",
    "        # indicates we have already moved all the elements to their correct side of the pivot\n",
    "        while low <= high and array[high] >= pivot:\n",
    "            high = high - 1\n",
    "\n",
    "        # Opposite process of the one above\n",
    "        while low <= high and array[low] <= pivot:\n",
    "            low = low + 1\n",
    "\n",
    "        # We either found a value for both high and low that is out of order\n",
    "        # or low is higher than high, in which case we exit the loop\n",
    "        if low <= high:\n",
    "            array[low], array[high] = array[high], array[low]\n",
    "            # The loop continues\n",
    "        else:\n",
    "            # We exit out of the loop\n",
    "            break\n",
    "\n",
    "    array[start], array[high] = array[high], array[start]\n",
    "\n",
    "    return high\n",
    "\n",
    "def quick_sort(array, start, end):\n",
    "    if start >= end:\n",
    "        return\n",
    "\n",
    "    p = partition(array, start, end)\n",
    "    quick_sort(array, start, p-1)\n",
    "    quick_sort(array, p+1, end)\n",
    "    \n",
    "array = [29,13,22,37,52,49,46,71,56]\n",
    "quick_sort(array, 0, len(array) - 1)\n",
    "print(\"Expected result\", array)"
   ]
  },
  {
   "cell_type": "code",
   "execution_count": null,
   "id": "7efaac45",
   "metadata": {},
   "outputs": [],
   "source": []
  },
  {
   "cell_type": "code",
   "execution_count": null,
   "id": "7233d852",
   "metadata": {},
   "outputs": [],
   "source": []
  }
 ],
 "metadata": {
  "kernelspec": {
   "display_name": "Python 3 (ipykernel)",
   "language": "python",
   "name": "python3"
  },
  "language_info": {
   "codemirror_mode": {
    "name": "ipython",
    "version": 3
   },
   "file_extension": ".py",
   "mimetype": "text/x-python",
   "name": "python",
   "nbconvert_exporter": "python",
   "pygments_lexer": "ipython3",
   "version": "3.9.12"
  }
 },
 "nbformat": 4,
 "nbformat_minor": 5
}
