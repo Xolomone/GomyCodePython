{
 "cells": [
  {
   "cell_type": "markdown",
   "id": "57524c1a",
   "metadata": {},
   "source": [
    "1. Write a Python class named Point3D defined by x, y, and z. Define a method that returns (x, y ,z). This tells Python to represent this object in the following format: (x, y, z). Then create a variable named my_point containing a new instance of Point3D with x=1, y=2, and z=3 and print it."
   ]
  },
  {
   "cell_type": "code",
   "execution_count": 6,
   "id": "24aa91c6",
   "metadata": {},
   "outputs": [
    {
     "name": "stdout",
     "output_type": "stream",
     "text": [
      "(1, 2, 3)\n"
     ]
    }
   ],
   "source": [
    "class Point3D:\n",
    "    def __init__(self, x, y, z):\n",
    "        self.x = x\n",
    "        self.y = y\n",
    "        self.z = z\n",
    "        \n",
    "    def retfunc(self):\n",
    "        print( '({}, {}, {})'.format(self.x, self.y, self.z))\n",
    "        \n",
    "my_point = Point3D(1, 2, 3)\n",
    "my_point.retfunc()\n"
   ]
  },
  {
   "cell_type": "markdown",
   "id": "90b4d3cc",
   "metadata": {},
   "source": [
    "2. Write a Python class named Rectangle constructed by a length and width. Define two methods, area and perimeter, which will compute the area and the perimeter of the rectangle. Then create a variable named my_rectangle containing a new instance of Rectangle with width=3 and length = 4 and compute both area and perimeter ( the area is expected to be 3*4=12 and perimeter 2*(3+4)=14)."
   ]
  },
  {
   "cell_type": "code",
   "execution_count": 8,
   "id": "9856772c",
   "metadata": {},
   "outputs": [
    {
     "name": "stdout",
     "output_type": "stream",
     "text": [
      "Area of Rectangle:  12\n",
      "Perimeter of Rectangle:  14\n"
     ]
    }
   ],
   "source": [
    "class Rectangle:\n",
    "    def __init__(self, length, width):\n",
    "        self.length = length\n",
    "        self.width = width\n",
    "        \n",
    "    def area(self):\n",
    "        Area = self.length * self.width\n",
    "        return Area\n",
    "    \n",
    "    def perimeter(self):\n",
    "        Perimeter = 2*(self.length + self.width)\n",
    "        return Perimeter\n",
    "\n",
    "my_rectangle = Rectangle(4, 3)\n",
    "print(\"Area of Rectangle: \",my_rectangle.area())\n",
    "print(\"Perimeter of Rectangle: \",my_rectangle.perimeter())\n"
   ]
  },
  {
   "cell_type": "markdown",
   "id": "9dc55661",
   "metadata": {},
   "source": [
    "3. Write a Python  class named Circle constructed by its center O and radius r. Define two methods, area and perimeter, which will compute the area and the perimeter of the circle, and is Inside() method which allows you to test whether a point A(x, y) belongs to the circle C(O, r) or not."
   ]
  },
  {
   "cell_type": "code",
   "execution_count": 50,
   "id": "f07f2dbf",
   "metadata": {},
   "outputs": [
    {
     "name": "stdout",
     "output_type": "stream",
     "text": [
      "1385.622\n",
      "131.964\n"
     ]
    }
   ],
   "source": [
    "class Circle:\n",
    "    def __init__(self, center, radius):\n",
    "        self.radius = radius\n",
    "        self.center = center\n",
    "        \n",
    "    def area_circle(self):\n",
    "        area = 3.142 * self.radius * self.radius\n",
    "        return area\n",
    "    \n",
    "    def perimeter_circle(self):\n",
    "        perimeter = 3.142 * self.radius * 2\n",
    "        return perimeter\n",
    "check = Circle(14,21)\n",
    "print(check.area_circle())\n",
    "print(check.perimeter_circle())\n",
    "\n",
    "# I am yet to resolve the \"is Inside() method\"\n",
    "        "
   ]
  },
  {
   "cell_type": "markdown",
   "id": "adc3c3cc",
   "metadata": {},
   "source": [
    "4. Suppose we want to model a bank account with support for deposit and withdraw operations. Let’s create a Python class named Bank defined by its balance. Define two methods, deposit and withdraw, to compute the new amount of each operation."
   ]
  },
  {
   "cell_type": "code",
   "execution_count": 42,
   "id": "1e651f82",
   "metadata": {},
   "outputs": [
    {
     "name": "stdout",
     "output_type": "stream",
     "text": [
      " Current balance: N550\n",
      " Deposit amount:N200\n",
      " Balance after transaction: N750\n",
      "750\n",
      " Current balance: N550\n",
      " Withdrawal amount:N200\n",
      " Balance after transaction: N350\n",
      "350\n"
     ]
    }
   ],
   "source": [
    "class Bank:\n",
    "    def __init__(self, balance, amount):\n",
    "        self.balance = balance\n",
    "        self.amount = amount\n",
    "        \n",
    "    def deposit(self):\n",
    "        new_balance = self.balance + self.amount\n",
    "        print(\" Current balance: N{}\\n Deposit amount:N{}\\n Balance after transaction: N{}\".format(self.balance, self.amount, new_balance))\n",
    "        return new_balance\n",
    "    \n",
    "    def withdraw(self):\n",
    "        new_balance = self.balance - self.amount\n",
    "        print(\" Current balance: N{}\\n Withdrawal amount:N{}\\n Balance after transaction: N{}\".format(self.balance, self.amount, new_balance))\n",
    "        return new_balance\n",
    "\n",
    "new_amount = Bank(550, 200)\n",
    "\n",
    "print(new_amount.deposit())\n",
    "print(new_amount.withdraw())\n",
    "\n",
    "        "
   ]
  },
  {
   "cell_type": "code",
   "execution_count": null,
   "id": "e6e922df",
   "metadata": {},
   "outputs": [],
   "source": []
  }
 ],
 "metadata": {
  "kernelspec": {
   "display_name": "Python 3 (ipykernel)",
   "language": "python",
   "name": "python3"
  },
  "language_info": {
   "codemirror_mode": {
    "name": "ipython",
    "version": 3
   },
   "file_extension": ".py",
   "mimetype": "text/x-python",
   "name": "python",
   "nbconvert_exporter": "python",
   "pygments_lexer": "ipython3",
   "version": "3.9.12"
  }
 },
 "nbformat": 4,
 "nbformat_minor": 5
}
