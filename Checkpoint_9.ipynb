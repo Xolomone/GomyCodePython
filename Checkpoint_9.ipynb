{
 "cells": [
  {
   "cell_type": "markdown",
   "id": "81908afd",
   "metadata": {},
   "source": [
    "Checkpoint Objective\n",
    "1. Write a Python program to read an entire text file.\n",
    "\n",
    "2. Write a Python program to read the first n lines of a file.\n",
    "\n",
    "3. Write a Python program to read the last n lines of a file.\n",
    "\n",
    "4. Write a Python program that takes a text file as input and returns the number of words of a given text file.\n",
    "\n",
    "5. (Bonus) Write a Python program to read the last n lines of a file."
   ]
  },
  {
   "cell_type": "markdown",
   "id": "ce0989dc",
   "metadata": {},
   "source": [
    "1. Write a Python program to read an entire text file."
   ]
  },
  {
   "cell_type": "code",
   "execution_count": 3,
   "id": "5229162b",
   "metadata": {},
   "outputs": [
    {
     "name": "stdout",
     "output_type": "stream",
     "text": [
      "First Line\n",
      "Second Line\n",
      "Third Line\n",
      "Fourth Line\n",
      "Fifth Line\n",
      "Sixth Line\n",
      "Seventh Line\n",
      "Eight Line\n",
      "Ninth Line\n",
      "Tenth Line\n",
      "\n"
     ]
    }
   ],
   "source": [
    "open_f = open(\"File1.txt\", \"r\")\n",
    "print(open_f.read())"
   ]
  },
  {
   "cell_type": "code",
   "execution_count": 2,
   "id": "7b1e8412",
   "metadata": {},
   "outputs": [
    {
     "name": "stdout",
     "output_type": "stream",
     "text": [
      "First Line\n",
      "\n",
      "Second Line\n",
      "\n",
      "Third Line\n",
      "\n",
      "Fourth Line\n",
      "\n",
      "Fifth Line\n",
      "\n",
      "Sixth Line\n",
      "\n",
      "Seventh Line\n",
      "\n",
      "Eight Line\n",
      "\n",
      "Ninth Line\n",
      "\n",
      "Tenth Line\n",
      "\n"
     ]
    }
   ],
   "source": [
    "open_f = open(\"File1.txt\", \"r\")\n",
    "for x in open_f:\n",
    "  print(x)"
   ]
  },
  {
   "cell_type": "markdown",
   "id": "be979725",
   "metadata": {},
   "source": [
    "2. Write a Python program to read the first n lines of a file."
   ]
  },
  {
   "cell_type": "code",
   "execution_count": 7,
   "id": "7f889d09",
   "metadata": {},
   "outputs": [
    {
     "name": "stdout",
     "output_type": "stream",
     "text": [
      "First Line\n",
      "Second Line\n",
      "Third Line\n",
      "Fourth Line\n",
      "Fifth Line\n",
      "Sixth Line\n",
      "Seventh Line\n",
      "Eight Line\n",
      "Ninth Line\n",
      "Tenth Line\n"
     ]
    }
   ],
   "source": [
    "# Python implementation to\n",
    "# read last N lines of a file\n",
    " \n",
    "# Function to read\n",
    "# last N lines of the file\n",
    "def LastNlines(fname, N):\n",
    "    # opening file using with() method\n",
    "    # so that file get closed\n",
    "    # after completing work\n",
    "    with open(fname) as file:\n",
    "         \n",
    "        # loop to read iterate\n",
    "        # last n lines and print it\n",
    "        for line in (file.readlines() [N:]):\n",
    "            print(line, end ='')\n",
    " \n",
    " \n",
    "# Driver Code:\n",
    "if __name__ == '__main__':\n",
    "    fname = 'File1.txt'\n",
    "    N = 0\n",
    "    try:\n",
    "        LastNlines(fname, N)\n",
    "    except:\n",
    "        print('File not found')"
   ]
  },
  {
   "cell_type": "markdown",
   "id": "5c50a4f0",
   "metadata": {},
   "source": [
    "3. Write a Python program to read the last n lines of a file."
   ]
  },
  {
   "cell_type": "code",
   "execution_count": 8,
   "id": "e34efb42",
   "metadata": {},
   "outputs": [
    {
     "name": "stdout",
     "output_type": "stream",
     "text": [
      "Tenth Line\n"
     ]
    }
   ],
   "source": [
    "# Python implementation to\n",
    "# read last N lines of a file\n",
    " \n",
    "# Function to read\n",
    "# last N lines of the file\n",
    "def LastNlines(fname, N):\n",
    "    # opening file using with() method\n",
    "    # so that file get closed\n",
    "    # after completing work\n",
    "    with open(fname) as file:\n",
    "         \n",
    "        # loop to read iterate\n",
    "        # last n lines and print it\n",
    "        for line in (file.readlines() [-N:]):\n",
    "            print(line, end ='')\n",
    " \n",
    " \n",
    "# Driver Code:\n",
    "if __name__ == '__main__':\n",
    "    fname = 'File1.txt'\n",
    "    N = 1\n",
    "    try:\n",
    "        LastNlines(fname, N)\n",
    "    except:\n",
    "        print('File not found')"
   ]
  },
  {
   "cell_type": "markdown",
   "id": "9cefee20",
   "metadata": {},
   "source": [
    "4. Write a Python program that takes a text file as input and returns the number of \n",
    "   words of a given text file."
   ]
  },
  {
   "cell_type": "code",
   "execution_count": 15,
   "id": "f1231628",
   "metadata": {},
   "outputs": [
    {
     "name": "stdout",
     "output_type": "stream",
     "text": [
      "11\n"
     ]
    }
   ],
   "source": [
    "def count_words(filepath):\n",
    "   with open(filepath) as f:\n",
    "       data = f.read()\n",
    "       data.replace(\",\", \" \")\n",
    "       return len(data.split(\" \"))\n",
    "print(count_words(\"File1.txt\"))"
   ]
  },
  {
   "cell_type": "markdown",
   "id": "d469ca00",
   "metadata": {},
   "source": [
    "5. (Bonus) Write a Python program to read the last n lines of a file."
   ]
  },
  {
   "cell_type": "code",
   "execution_count": 17,
   "id": "9fab1fa2",
   "metadata": {},
   "outputs": [
    {
     "name": "stdout",
     "output_type": "stream",
     "text": [
      "Eight Line\n",
      "Ninth Line\n",
      "Tenth Line\n"
     ]
    }
   ],
   "source": [
    "# Python implementation to\n",
    "# read last N lines of a file\n",
    " \n",
    "# Function to read\n",
    "# last N lines of the file\n",
    "def LastNlines(fname, N):\n",
    "    # opening file using with() method\n",
    "    # so that file get closed\n",
    "    # after completing work\n",
    "    with open(fname) as file:\n",
    "         \n",
    "        # loop to read iterate\n",
    "        # last n lines and print it\n",
    "        for line in (file.readlines() [-N:]):\n",
    "            print(line, end ='')\n",
    " \n",
    " \n",
    "# Driver Code:\n",
    "if __name__ == '__main__':\n",
    "    fname = 'File1.txt'\n",
    "    N = 3\n",
    "    try:\n",
    "        LastNlines(fname, N)\n",
    "    except:\n",
    "        print('File not found')"
   ]
  },
  {
   "cell_type": "code",
   "execution_count": null,
   "id": "41a8f0ec",
   "metadata": {},
   "outputs": [],
   "source": []
  }
 ],
 "metadata": {
  "kernelspec": {
   "display_name": "Python 3 (ipykernel)",
   "language": "python",
   "name": "python3"
  },
  "language_info": {
   "codemirror_mode": {
    "name": "ipython",
    "version": 3
   },
   "file_extension": ".py",
   "mimetype": "text/x-python",
   "name": "python",
   "nbconvert_exporter": "python",
   "pygments_lexer": "ipython3",
   "version": "3.9.12"
  }
 },
 "nbformat": 4,
 "nbformat_minor": 5
}
