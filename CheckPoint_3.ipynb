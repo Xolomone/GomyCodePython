{
 "cells": [
  {
   "cell_type": "markdown",
   "id": "9a919970",
   "metadata": {},
   "source": [
    "Question 1 \n",
    "\n",
    "Write a Python program that multiplies all the items in a list.\n",
    "\n",
    "Sample list= [2, 3, 6]\n",
    "\n",
    "Result = 36"
   ]
  },
  {
   "cell_type": "code",
   "execution_count": 11,
   "id": "b11b7dcb",
   "metadata": {},
   "outputs": [
    {
     "name": "stdout",
     "output_type": "stream",
     "text": [
      "Result = 36\n"
     ]
    }
   ],
   "source": [
    "def multi_list(sample_list):\n",
    "    total = 1 \n",
    "    for x in sample_list:\n",
    "        total = total * x\n",
    "    return total\n",
    "print(\"Result =\",multi_list([2,3,6]))"
   ]
  },
  {
   "cell_type": "markdown",
   "id": "f3d7a4ec",
   "metadata": {},
   "source": [
    "Question 2\n",
    "\n",
    "Write a Python program to get a list, sorted in increasing order by the last element in each tuple, from a given list of non-empty tuples.\n",
    "\n",
    "Sample List : [(2, 5), (1, 2), (4, 4), (2, 3), (2, 1)]\n",
    "\n",
    "Expected result : [(2, 1), (1, 2), (2, 3), (4, 4), (2, 5)]\n",
    "\n",
    "Hint: You can use the sort function."
   ]
  },
  {
   "cell_type": "code",
   "execution_count": 12,
   "id": "91fa6ec0",
   "metadata": {},
   "outputs": [
    {
     "name": "stdout",
     "output_type": "stream",
     "text": [
      "[(2, 1), (1, 2), (2, 3), (4, 4), (2, 5)]\n"
     ]
    }
   ],
   "source": [
    "def return_last_element(tuple_item):\n",
    "    return tuple_item[-1]\n",
    "sample1 = [(2, 5), (1, 2), (4, 4), (2, 3), (2, 1)]\n",
    "sample2 = sorted(sample1, key = return_last_element)\n",
    "print(sample2)"
   ]
  },
  {
   "cell_type": "code",
   "execution_count": null,
   "id": "fb12e7cd",
   "metadata": {},
   "outputs": [],
   "source": []
  },
  {
   "cell_type": "markdown",
   "id": "546b718f",
   "metadata": {},
   "source": [
    "Question 3 \n",
    "\n",
    "Write a Python program that combines two dictionaries by adding values for common keys.\n",
    "\n",
    "d1 = {'a': 100, 'b': 200, 'c':300}\n",
    "\n",
    "d2 = {'a': 300, 'b': 200, 'd':400}\n",
    "\n",
    "Expected result: {'a': 400, 'b': 400, 'd': 400, 'c': 300}"
   ]
  },
  {
   "cell_type": "code",
   "execution_count": 26,
   "id": "cc05c8f2",
   "metadata": {},
   "outputs": [
    {
     "data": {
      "text/plain": [
       "Counter({'a': 400, 'b': 400, 'c': 300, 'd': 400})"
      ]
     },
     "execution_count": 26,
     "metadata": {},
     "output_type": "execute_result"
    }
   ],
   "source": [
    "from collections import Counter\n",
    "def add_dicts(d1, d2):\n",
    "    d = Counter(d1) + Counter(d2)\n",
    "    return d\n",
    "add_dicts({'a': 100, 'b': 200, 'c':300},{'a': 300, 'b': 200, 'd':400})\n"
   ]
  },
  {
   "cell_type": "markdown",
   "id": "55fa9d7b",
   "metadata": {},
   "source": [
    "Question 4\n",
    "\n",
    "With a given integral number n, write a program to generate a dictionary that contains (i, i*i) so that is an integral number between 1 and n (both included). Then the program should print the dictionary. Suppose the following input is supplied to the program: 8. Then, the output should be: {1: 1, 2: 4, 3: 9, 4: 16, 5: 25, 6: 36, 7: 49, 8: 64}\n"
   ]
  },
  {
   "cell_type": "code",
   "execution_count": 5,
   "id": "1a681b3a",
   "metadata": {},
   "outputs": [
    {
     "name": "stdout",
     "output_type": "stream",
     "text": [
      "Please enter a value: 8\n",
      "{1: 1, 2: 4, 3: 9, 4: 16, 5: 25, 6: 36, 7: 49, 8: 64}\n"
     ]
    }
   ],
   "source": [
    "n = input(\"Please enter a value: \")\n",
    "n = int(n)\n",
    "squares = {i: i*i for i in range(1, n+1)}\n",
    "print(squares)"
   ]
  },
  {
   "cell_type": "code",
   "execution_count": 8,
   "id": "87f887c6",
   "metadata": {},
   "outputs": [
    {
     "name": "stdout",
     "output_type": "stream",
     "text": [
      "{1: 1, 2: 4, 3: 9, 4: 16, 5: 25, 6: 36, 7: 49, 8: 64}\n"
     ]
    }
   ],
   "source": [
    "def squares(n):\n",
    "    squares = {i: i*i for i in range(1, n+1)}\n",
    "    return print(squares) \n",
    "squares(8)"
   ]
  },
  {
   "cell_type": "markdown",
   "id": "07bc75b8",
   "metadata": {},
   "source": [
    "Question 5\n",
    "\n",
    "Write a program to sort a tuple by its float element.\n",
    "\n",
    "For example: list= [('item1', '12.20'), ('item2', '15.10'), ('item3', '24.5')]\n",
    "\n",
    "Expected result: [('item3', '24.5'), ('item2', '15.10'), ('item1', '12.20')]"
   ]
  },
  {
   "cell_type": "code",
   "execution_count": 10,
   "id": "e935d8f3",
   "metadata": {},
   "outputs": [
    {
     "name": "stdout",
     "output_type": "stream",
     "text": [
      "[('item3', '24.5'), ('item2', '15.10'), ('item1', '12.20')]\n"
     ]
    }
   ],
   "source": [
    "def return_last_element(tuple_item):\n",
    "    return tuple_item[-1]\n",
    "sample1 = [('item1', '12.20'), ('item2', '15.10'), ('item3', '24.5')]\n",
    "sample2 = sorted(sample1, key = return_last_element, reverse = 1)\n",
    "print(sample2)"
   ]
  },
  {
   "cell_type": "markdown",
   "id": "2c80f000",
   "metadata": {},
   "source": [
    "Question 6\n",
    "\n",
    "Write a Python program to create a set.\n",
    "\n",
    "Examples : {0, 1, 2, 3, 4}\n",
    "\n",
    "Write a Python program to iteration over sets.\n",
    "\n",
    "Write a Python program to add members in a set and to remove items from a given set."
   ]
  },
  {
   "cell_type": "code",
   "execution_count": 11,
   "id": "fe6e6482",
   "metadata": {
    "collapsed": true
   },
   "outputs": [
    {
     "name": "stdout",
     "output_type": "stream",
     "text": [
      "0\n",
      "1\n",
      "2\n",
      "3\n",
      "4\n"
     ]
    }
   ],
   "source": []
  },
  {
   "cell_type": "code",
   "execution_count": 15,
   "id": "7f7173f2",
   "metadata": {},
   "outputs": [
    {
     "name": "stdout",
     "output_type": "stream",
     "text": [
      "{0, 1, 2, 3, 4, 5}\n"
     ]
    }
   ],
   "source": [
    "def create_set(n): #Python program to create a set\n",
    "    set = {i for i in range(0, n+1)}\n",
    "    return print(set)\n",
    "\n",
    "create_set(5)"
   ]
  },
  {
   "cell_type": "code",
   "execution_count": 16,
   "id": "428a2a71",
   "metadata": {},
   "outputs": [
    {
     "name": "stdout",
     "output_type": "stream",
     "text": [
      "0\n",
      "1\n",
      "2\n",
      "3\n",
      "4\n"
     ]
    }
   ],
   "source": [
    "def iterate_over_set(n):#Python program to iteration over set\n",
    "    set = {i for i in range(0, n+1)}\n",
    "    for x in set:\n",
    "        print(x)\n",
    "    return\n",
    "iterate_over_set(4)"
   ]
  },
  {
   "cell_type": "code",
   "execution_count": 43,
   "id": "c49ec397",
   "metadata": {},
   "outputs": [
    {
     "name": "stdout",
     "output_type": "stream",
     "text": [
      "{0, 1, 2, 3, 4, 5, 6}\n",
      "{0, 1, 2, 3, 4, 5, 6, 11}\n",
      "{1, 2, 3, 4, 5, 6, 11}\n"
     ]
    }
   ],
   "source": [
    "def add_rem_set(n):#Python program to iteration over set\n",
    "    set = {i for i in range(0, n+1)}\n",
    "    print(set)\n",
    "    more = set.add(n+5) #Python program to add members in a set \n",
    "    print(set)\n",
    "    less = set.pop() #remove items from a given set.\n",
    "    return print(set)\n",
    "add_rem_set(6)"
   ]
  },
  {
   "cell_type": "code",
   "execution_count": 44,
   "id": "58c22817",
   "metadata": {},
   "outputs": [
    {
     "name": "stdout",
     "output_type": "stream",
     "text": [
      "{0, 1, 2, 3, 4, 5, 6}\n",
      "{0, 1, 2, 3, 4, 5, 6, 11}\n",
      "1\n",
      "2\n",
      "3\n",
      "4\n",
      "5\n",
      "6\n",
      "11\n",
      "{1, 2, 3, 4, 5, 6, 11}\n"
     ]
    }
   ],
   "source": [
    "#putting all in a single function\n",
    "\n",
    "def all_in_one_set(n):#Python program to iteration over set\n",
    "    set = {i for i in range(0, n+1)} # create a set\n",
    "    print(set)\n",
    "    more = set.add(n+5) #Python program to add members in a set \n",
    "    print(set)\n",
    "    less = set.pop() #remove items from a given set.\n",
    "    for x in set: # iteration over set\n",
    "        print(x)\n",
    "    return print(set)\n",
    "all_in_one_set(6)"
   ]
  },
  {
   "cell_type": "code",
   "execution_count": null,
   "id": "36b4940f",
   "metadata": {},
   "outputs": [],
   "source": []
  }
 ],
 "metadata": {
  "kernelspec": {
   "display_name": "Python 3 (ipykernel)",
   "language": "python",
   "name": "python3"
  },
  "language_info": {
   "codemirror_mode": {
    "name": "ipython",
    "version": 3
   },
   "file_extension": ".py",
   "mimetype": "text/x-python",
   "name": "python",
   "nbconvert_exporter": "python",
   "pygments_lexer": "ipython3",
   "version": "3.9.12"
  }
 },
 "nbformat": 4,
 "nbformat_minor": 5
}
