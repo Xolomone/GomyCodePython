{
 "cells": [
  {
   "cell_type": "markdown",
   "id": "e5bc8fe5",
   "metadata": {},
   "source": [
    "Question 1\n",
    "\n",
    "Write a Python function to find the largest (max) of three numbers.\n",
    "\n",
    "For example, the max of these three numbers (20, 35, 19) is 35."
   ]
  },
  {
   "cell_type": "code",
   "execution_count": 4,
   "id": "9a2d082e",
   "metadata": {},
   "outputs": [
    {
     "data": {
      "text/plain": [
       "55"
      ]
     },
     "execution_count": 4,
     "metadata": {},
     "output_type": "execute_result"
    }
   ],
   "source": [
    "def max_func(x,y,z):\n",
    "    return max(x,y,z)\n",
    "max_func(4,7,55)"
   ]
  },
  {
   "cell_type": "markdown",
   "id": "64b794c6",
   "metadata": {},
   "source": [
    "Question 2\n",
    "\n",
    "Write a function calculation() so it can accept two variables and calculate the addition and subtraction of them. It must return both addition and subtraction in a single return call.\n",
    "\n",
    "For example:\n",
    "\n",
    "calculation(40, 10) should produce 50, 30"
   ]
  },
  {
   "cell_type": "code",
   "execution_count": 5,
   "id": "1b088cb2",
   "metadata": {},
   "outputs": [
    {
     "data": {
      "text/plain": [
       "(50, 30)"
      ]
     },
     "execution_count": 5,
     "metadata": {},
     "output_type": "execute_result"
    }
   ],
   "source": [
    "def add_sub(p,q):\n",
    "    result1 = p + q\n",
    "    result2 = p - q\n",
    "    return result1,result2\n",
    "add_sub(40,10)"
   ]
  },
  {
   "cell_type": "markdown",
   "id": "73692654",
   "metadata": {},
   "source": [
    "Question 3\n",
    "\n",
    "Write a function that sums the elements of a list of integers.\n",
    "Write a function that multiplies the elements of an integer list.\n",
    "Use the two functions to sum the elements whose position is an even number (0,2,4…) and multiply the rest.\n",
    "Hint: Consider extracting two lists from a first list."
   ]
  },
  {
   "cell_type": "code",
   "execution_count": 1,
   "id": "138b5bb9",
   "metadata": {},
   "outputs": [],
   "source": [
    "pastors = [50,500,650,300,452,125]"
   ]
  },
  {
   "cell_type": "code",
   "execution_count": 9,
   "id": "10304ee7",
   "metadata": {},
   "outputs": [
    {
     "name": "stdout",
     "output_type": "stream",
     "text": [
      "2077\n"
     ]
    }
   ],
   "source": [
    "def sumz(thelist):\n",
    "    summ = 0\n",
    "    for x in thelist:\n",
    "        summ = summ + x\n",
    "    print(summ)\n",
    "sumz(pastors)"
   ]
  },
  {
   "cell_type": "code",
   "execution_count": 10,
   "id": "11541d91",
   "metadata": {},
   "outputs": [
    {
     "name": "stdout",
     "output_type": "stream",
     "text": [
      "275437500000000\n"
     ]
    }
   ],
   "source": [
    "def multp(thelist):\n",
    "    mul = 1\n",
    "    for x in thelist:\n",
    "        mul = mul * x\n",
    "    print(mul)\n",
    "multp(pastors)"
   ]
  },
  {
   "cell_type": "code",
   "execution_count": 13,
   "id": "febaf81f",
   "metadata": {},
   "outputs": [
    {
     "name": "stdout",
     "output_type": "stream",
     "text": [
      "[50, 500, 650, 300, 452, 125]\n",
      "Even Indices\n",
      "[650, 452]\n",
      "1102\n",
      "Odd Indices\n",
      "[500, 300, 125]\n",
      "18750000\n"
     ]
    }
   ],
   "source": [
    "def actele(thelist):\n",
    "    newlist = []\n",
    "    newlist1 = []\n",
    "    print(\"Even Indices\")\n",
    "    for x in thelist[2::2]:\n",
    "        newlist.append(x)\n",
    "    print(newlist)\n",
    "    sumz(thelist[2::2])\n",
    "    print(\"Odd Indices\")\n",
    "    for y in thelist[1::2]:\n",
    "        newlist1.append(y)\n",
    "    print(newlist1)\n",
    "    multp(thelist[1::2])\n",
    "    \n",
    "print(pastors)\n",
    "actele(pastors)"
   ]
  },
  {
   "cell_type": "markdown",
   "id": "bff78848",
   "metadata": {},
   "source": [
    "Question 4\n",
    "\n",
    "write a function that displays the first letter of the dictionary value in upper case by using the return statement."
   ]
  },
  {
   "cell_type": "code",
   "execution_count": 23,
   "id": "7cab9c8d",
   "metadata": {},
   "outputs": [
    {
     "name": "stdout",
     "output_type": "stream",
     "text": [
      "R\n",
      "M\n",
      "D\n"
     ]
    }
   ],
   "source": [
    "def first_let_dict(thisdict):\n",
    "    for k in thisdict.values():\n",
    "        z = k[0]\n",
    "        z = z.upper()\n",
    "        print(z)\n",
    "collage = {\"colour\":\"red\", \"car\":\"manual\", \"window\":\"dirty\"}\n",
    "first_let_dict(collage)"
   ]
  },
  {
   "cell_type": "markdown",
   "id": "63ef36ce",
   "metadata": {},
   "source": [
    "Question 5\n",
    "\n",
    "write a function that returns the largest word in the dictionary."
   ]
  },
  {
   "cell_type": "code",
   "execution_count": 24,
   "id": "09faa31e",
   "metadata": {},
   "outputs": [
    {
     "name": "stdout",
     "output_type": "stream",
     "text": [
      "{'colour': 'red', 'car': 'manual', 'window': 'dirty'}\n",
      "manual\n"
     ]
    }
   ],
   "source": [
    "def largestdict(a):\n",
    "    den = max(a.values(), key=len)\n",
    "    print(den)\n",
    "print(collage)\n",
    "largestdict(collage)"
   ]
  },
  {
   "cell_type": "markdown",
   "id": "c7026852",
   "metadata": {},
   "source": [
    "Question 6\n",
    "\n",
    "Write a Python program that accepts a hyphen-separated sequence of words as input and prints the words in a hyphen-separated sequence after sorting them alphabetically.\n",
    "\n",
    "Sample items: green-red-yellow-black-white\n",
    "\n",
    "Expected result: black-green-red-white-yellow\n",
    "\n",
    "Hint: There's a split function to separate your input string into words and a sort function to sort."
   ]
  },
  {
   "cell_type": "code",
   "execution_count": 25,
   "id": "fd358551",
   "metadata": {},
   "outputs": [
    {
     "name": "stdout",
     "output_type": "stream",
     "text": [
      "black-green-red-white-yellow\n"
     ]
    }
   ],
   "source": [
    "def sort_return(a):\n",
    "    unsplit = a.split('-')\n",
    "    unsplit.sort()\n",
    "    rejoin = '-'.join(unsplit)\n",
    "    print(rejoin)\n",
    "    \n",
    "items = \"green-red-yellow-black-white\"\n",
    "sort_return(items)"
   ]
  },
  {
   "cell_type": "markdown",
   "id": "53c697ed",
   "metadata": {},
   "source": [
    "Question 7 (Bonus)\n",
    "\n",
    "Write a function that calculates and prints the value according to the given formula: Q = square root of [(2 * C * D)/H]. Following are the fixed values of C and H: C is 50, and H is 30. D is the variable whose values should be input to your program in a comma-separated sequence. Example: Let us assume the following comma-separated input sequence is given to the function: 100,150,180. \n",
    "\n",
    "Expected result: 18,22,24 \n",
    "\n",
    "Hints: If the output received is in decimal form, it should be rounded off to its nearest value. For example, if the output received is 26.0, it should be printed as 26. In the case of input data being supplied to the question, it should be assumed to be a console input. "
   ]
  },
  {
   "cell_type": "code",
   "execution_count": 49,
   "id": "5763d8da",
   "metadata": {},
   "outputs": [
    {
     "name": "stdout",
     "output_type": "stream",
     "text": [
      "Provide D: 100,150,180\n",
      "[18, 22, 24]\n"
     ]
    }
   ],
   "source": [
    "import math\n",
    "\n",
    "numbers = input(\"Provide D: \")\n",
    "numbers = numbers.split(',')\n",
    "\n",
    "result_list = []\n",
    "for D in numbers:\n",
    "    Q = round(math.sqrt(2 * 50 * int(D) / 30))\n",
    "    result_list.append(Q)\n",
    "\n",
    "print(result_list)"
   ]
  },
  {
   "cell_type": "code",
   "execution_count": null,
   "id": "d1f17505",
   "metadata": {},
   "outputs": [],
   "source": []
  },
  {
   "cell_type": "code",
   "execution_count": null,
   "id": "5da46214",
   "metadata": {},
   "outputs": [],
   "source": []
  }
 ],
 "metadata": {
  "kernelspec": {
   "display_name": "Python 3 (ipykernel)",
   "language": "python",
   "name": "python3"
  },
  "language_info": {
   "codemirror_mode": {
    "name": "ipython",
    "version": 3
   },
   "file_extension": ".py",
   "mimetype": "text/x-python",
   "name": "python",
   "nbconvert_exporter": "python",
   "pygments_lexer": "ipython3",
   "version": "3.9.12"
  }
 },
 "nbformat": 4,
 "nbformat_minor": 5
}
