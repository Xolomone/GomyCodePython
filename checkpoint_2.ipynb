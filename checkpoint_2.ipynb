{
 "cells": [
  {
   "cell_type": "markdown",
   "id": "a48e2510",
   "metadata": {},
   "source": [
    "Question 1\n",
    "\n",
    "Write a Python program that accepts the user's first and last name, and prints them in reverse order with a space between them."
   ]
  },
  {
   "cell_type": "code",
   "execution_count": 9,
   "id": "775cb04a",
   "metadata": {},
   "outputs": [
    {
     "name": "stdout",
     "output_type": "stream",
     "text": [
      "Please enter your first nameSolomon \n",
      "Please enter your last nameEgboh\n",
      "Welcome Egboh  Solomon \n"
     ]
    }
   ],
   "source": [
    "first_name = input(\"Please enter your first name\")\n",
    "last_name = input(\"Please enter your last name\")\n",
    "print(\"Welcome\", last_name,\"\",first_name)"
   ]
  },
  {
   "cell_type": "code",
   "execution_count": 8,
   "id": "4e49e6d9",
   "metadata": {},
   "outputs": [
    {
     "name": "stdout",
     "output_type": "stream",
     "text": [
      "Please enter your first nameSolomon\n",
      "Please enter your last nameEgboh\n",
      "Welcome Egboh  Solomon\n"
     ]
    }
   ],
   "source": [
    "def name(first_name, last_name):\n",
    "    return print(\"Welcome\", last_name,\"\",first_name)\n",
    "first_name = input(\"Please enter your first name\")\n",
    "last_name = input(\"Please enter your last name\")\n",
    "name(first_name, last_name)"
   ]
  },
  {
   "cell_type": "markdown",
   "id": "486a1b44",
   "metadata": {},
   "source": [
    "Question 2\n",
    "\n",
    "Write a Python program that accepts an integer (n) and computes the value of n+nn+nnn.\n",
    "\n",
    "The sample value of n is 5.\n",
    "\n",
    "Expected Result: 615 (5+55+555)"
   ]
  },
  {
   "cell_type": "code",
   "execution_count": 17,
   "id": "4d1fffd9",
   "metadata": {},
   "outputs": [
    {
     "name": "stdout",
     "output_type": "stream",
     "text": [
      "555\n",
      "5+55+555 = 615\n"
     ]
    }
   ],
   "source": [
    "n = 5\n",
    "n1 = int(\"%s\" % n)\n",
    "n2 = int(\"%s%s\" % (n,n))\n",
    "n3 = int(\"%s%s%s\" %(n,n,n))\n",
    "summ = n1 + n2 + n3\n",
    "print(\"{}+{}+{} = {}\".format(n1,n2,n3,summ))"
   ]
  },
  {
   "cell_type": "code",
   "execution_count": 18,
   "id": "7e48c0c7",
   "metadata": {},
   "outputs": [
    {
     "name": "stdout",
     "output_type": "stream",
     "text": [
      "Please enter a number 5\n",
      "5+55+555 = 615\n"
     ]
    }
   ],
   "source": [
    "def addin(n1,n2,n3):\n",
    "    n1 = int(\"%s\" % n)\n",
    "    n2 = int(\"%s%s\" % (n,n))\n",
    "    n3 = int(\"%s%s%s\" %(n,n,n))\n",
    "    summ = n1 + n2 + n3\n",
    "    return print(\"{}+{}+{} = {}\".format(n1,n2,n3,summ))\n",
    "n = input(\"Please enter a number \")\n",
    "addin(n1,n2,n3)\n"
   ]
  },
  {
   "cell_type": "markdown",
   "id": "545cbdf4",
   "metadata": {},
   "source": [
    "Question 3\n",
    "\n",
    "Write a Python program to find whether a given number (accept from the user) is even or odd, and print out an appropriate message to the user."
   ]
  },
  {
   "cell_type": "code",
   "execution_count": 22,
   "id": "df7a50b9",
   "metadata": {},
   "outputs": [
    {
     "name": "stdout",
     "output_type": "stream",
     "text": [
      "Enter a number3\n",
      "3 is an odd number\n"
     ]
    }
   ],
   "source": [
    "n = input(\"Enter a number\")\n",
    "n = int(n)\n",
    "if n%2 == 0:\n",
    "    print(\"{} is an even number\".format(n))\n",
    "else:\n",
    "    print(\"{} is an odd number\".format(n))"
   ]
  },
  {
   "cell_type": "code",
   "execution_count": 28,
   "id": "a8c2be91",
   "metadata": {},
   "outputs": [
    {
     "name": "stdout",
     "output_type": "stream",
     "text": [
      "Enter a number122\n",
      "122 is an even number\n"
     ]
    }
   ],
   "source": [
    "def even_odd(n):\n",
    "    n = int(n)\n",
    "    if n%2 == 0:\n",
    "        dem = print(\"{} is an even number\".format(n))\n",
    "    else:\n",
    "        dem = print(\"{} is an odd number\".format(n))\n",
    "    return dem\n",
    "\n",
    "n = input(\"Enter a number \")\n",
    "even_odd(n)\n"
   ]
  },
  {
   "cell_type": "code",
   "execution_count": null,
   "id": "b8f558b0",
   "metadata": {},
   "outputs": [],
   "source": []
  },
  {
   "cell_type": "markdown",
   "id": "d65dfd19",
   "metadata": {},
   "source": [
    "Question 4\n",
    "\n",
    "Write a program which will find all such numbers which are divisible by 7 but are not a multiple of 5, between 2000 and 3200 (both included). The numbers obtained should be printed in a sequence on a single line.\n",
    "\n",
    "Hints: Consider use range(#begin, #end) method \n"
   ]
  },
  {
   "cell_type": "code",
   "execution_count": 92,
   "id": "349764d9",
   "metadata": {},
   "outputs": [
    {
     "name": "stdout",
     "output_type": "stream",
     "text": [
      "Please enter start of range 2000\n",
      "Please enter end of range3201\n",
      "[2002, 2009, 2016, 2023, 2037, 2044, 2051, 2058, 2072, 2079, 2086, 2093, 2107, 2114, 2121, 2128, 2142, 2149, 2156, 2163, 2177, 2184, 2191, 2198, 2212, 2219, 2226, 2233, 2247, 2254, 2261, 2268, 2282, 2289, 2296, 2303, 2317, 2324, 2331, 2338, 2352, 2359, 2366, 2373, 2387, 2394, 2401, 2408, 2422, 2429, 2436, 2443, 2457, 2464, 2471, 2478, 2492, 2499, 2506, 2513, 2527, 2534, 2541, 2548, 2562, 2569, 2576, 2583, 2597, 2604, 2611, 2618, 2632, 2639, 2646, 2653, 2667, 2674, 2681, 2688, 2702, 2709, 2716, 2723, 2737, 2744, 2751, 2758, 2772, 2779, 2786, 2793, 2807, 2814, 2821, 2828, 2842, 2849, 2856, 2863, 2877, 2884, 2891, 2898, 2912, 2919, 2926, 2933, 2947, 2954, 2961, 2968, 2982, 2989, 2996, 3003, 3017, 3024, 3031, 3038, 3052, 3059, 3066, 3073, 3087, 3094, 3101, 3108, 3122, 3129, 3136, 3143, 3157, 3164, 3171, 3178, 3192, 3199]\n"
     ]
    }
   ],
   "source": [
    "def rangle(begin,end):\n",
    "    el = []\n",
    "    for i in range(begin,end):\n",
    "        if i % 7 == 0 and i % 5 > 0:\n",
    "            el.append(i)\n",
    "    return print(el)\n",
    "begin = input(\"Please enter start of range \")\n",
    "begin = int(begin)\n",
    "end = input(\"Please enter end of range\")\n",
    "end = int(end)\n",
    "rangle(begin,end)"
   ]
  },
  {
   "cell_type": "code",
   "execution_count": 91,
   "id": "03ab6907",
   "metadata": {},
   "outputs": [
    {
     "name": "stdout",
     "output_type": "stream",
     "text": [
      "Please enter start of range 2000\n",
      "Please enter end of range3201\n",
      "[21, 28]\n"
     ]
    }
   ],
   "source": [
    "def rangle(begin,end):\n",
    "    el = []\n",
    "    for i in range(begin,end):\n",
    "        if i % 7 == 0 and i % 5 > 0:\n",
    "            el.append(i)\n",
    "    return print(el)\n",
    "\n",
    "def enter_value():\n",
    "    begin = input(\"Please enter start of range \")\n",
    "    begin = int(begin)\n",
    "    end = input(\"Please enter end of range\")\n",
    "    end = int(end)\n",
    "    \n",
    "enter_value()  \n",
    "rangle(begin,end)#This is throwing out errors. It stores the value of the initial implementation\n",
    "\n"
   ]
  },
  {
   "cell_type": "code",
   "execution_count": null,
   "id": "44802463",
   "metadata": {},
   "outputs": [],
   "source": []
  },
  {
   "cell_type": "markdown",
   "id": "1d17a2bd",
   "metadata": {},
   "source": [
    "Question 5\n",
    "\n",
    "Write a program that can compute the factorial of a given number. The results should be printed in a sequence on a single line. Suppose the following input is supplied to the program: 8. Then, the output should be: 40320 \n",
    "\n",
    "Hint: The factorial function (symbol: !) multiplies all whole numbers from our chosen number down to 1. Examples: \n",
    "\n",
    "4! = 4 × 3 × 2 × 1\n",
    "\n",
    "8! = 8 × 7 × 6 × 5 × 4 × 3 × 2 × 1\n",
    "\n",
    "1! = 1\n",
    "\n",
    "0! = 1 (by convention)"
   ]
  },
  {
   "cell_type": "code",
   "execution_count": 108,
   "id": "dfdcc150",
   "metadata": {},
   "outputs": [
    {
     "name": "stdout",
     "output_type": "stream",
     "text": [
      "Enter value of factorial 8\n"
     ]
    },
    {
     "data": {
      "text/plain": [
       "40320"
      ]
     },
     "execution_count": 108,
     "metadata": {},
     "output_type": "execute_result"
    }
   ],
   "source": [
    "import math\n",
    "def fact(n):\n",
    "    return math.factorial(n)\n",
    "\n",
    "n = input(\"Enter value of factorial \")\n",
    "n = int(n)\n",
    "fact(n)\n"
   ]
  },
  {
   "cell_type": "markdown",
   "id": "7b4ce5d3",
   "metadata": {},
   "source": [
    "Question 6\n",
    "\n",
    "Write a program to remove the characters which have odd index values of a given string.\n",
    "\n",
    "For example: string =\"hello team\"\n",
    "\n",
    "The result should be: hlota"
   ]
  },
  {
   "cell_type": "code",
   "execution_count": 112,
   "id": "9bb7da9b",
   "metadata": {},
   "outputs": [
    {
     "name": "stdout",
     "output_type": "stream",
     "text": [
      "hlota\n"
     ]
    }
   ],
   "source": [
    "hold = \"hello team\"\n",
    "print(hold[0::2])"
   ]
  },
  {
   "cell_type": "code",
   "execution_count": 116,
   "id": "94011547",
   "metadata": {},
   "outputs": [
    {
     "name": "stdout",
     "output_type": "stream",
     "text": [
      "Please enter an input hello team\n",
      "hlota\n"
     ]
    }
   ],
   "source": [
    "def rem_odd_index(value):\n",
    "    return print(value[0::2])\n",
    "\n",
    "value = input(\"Please enter an input \")\n",
    "rem_odd_index(value)"
   ]
  },
  {
   "cell_type": "code",
   "execution_count": null,
   "id": "4886dbf1",
   "metadata": {},
   "outputs": [],
   "source": []
  },
  {
   "cell_type": "markdown",
   "id": "3089c5a9",
   "metadata": {},
   "source": [
    "Question 7\n",
    "\n",
    "In this challenge, you must discount a price according to its value.\n",
    "\n",
    "- If the price is 500 or above, there will be a 50% discount.\n",
    "\n",
    "- If the price is between 200 and 500 (200 inclusive), there will be a 30% discount.\n",
    "\n",
    "- If the price is less than 200, there will be a 10% discount."
   ]
  },
  {
   "cell_type": "code",
   "execution_count": 136,
   "id": "835b56ac",
   "metadata": {},
   "outputs": [
    {
     "name": "stdout",
     "output_type": "stream",
     "text": [
      "Please enter product price: 30\n",
      "Sales price:NGN30\n",
      "Discount @ 10% being NGN3.0\n",
      "Checkout price:NGN27.0\n"
     ]
    }
   ],
   "source": [
    "def discount_price(price):\n",
    "    if price >= 500:\n",
    "        discount = (price *50/100)\n",
    "        new_price = price - discount\n",
    "        rate = \"50%\"\n",
    "    elif 200 <= price < 500:\n",
    "        discount = (price *30/100)\n",
    "        new_price = price - discount\n",
    "        rate = \"30%\"\n",
    "    else:\n",
    "        discount = (price *10/100)\n",
    "        new_price = price - discount\n",
    "        rate = \"10%\"\n",
    "    return print(\"Sales price:NGN{}\\nDiscount @ {} being NGN{}\\nCheckout price:NGN{}\".format(price,rate,discount,new_price))\n",
    "\n",
    "price = input(\"Please enter product price: \")\n",
    "price = int(price)\n",
    "discount_price(price)"
   ]
  },
  {
   "cell_type": "code",
   "execution_count": null,
   "id": "245175a7",
   "metadata": {},
   "outputs": [],
   "source": []
  },
  {
   "cell_type": "code",
   "execution_count": null,
   "id": "ca0dd2e9",
   "metadata": {},
   "outputs": [],
   "source": []
  }
 ],
 "metadata": {
  "kernelspec": {
   "display_name": "Python 3 (ipykernel)",
   "language": "python",
   "name": "python3"
  },
  "language_info": {
   "codemirror_mode": {
    "name": "ipython",
    "version": 3
   },
   "file_extension": ".py",
   "mimetype": "text/x-python",
   "name": "python",
   "nbconvert_exporter": "python",
   "pygments_lexer": "ipython3",
   "version": "3.9.12"
  }
 },
 "nbformat": 4,
 "nbformat_minor": 5
}
